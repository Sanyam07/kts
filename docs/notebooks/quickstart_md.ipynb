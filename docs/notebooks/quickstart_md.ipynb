{
 "cells": [
  {
   "cell_type": "markdown",
   "metadata": {},
   "source": [
    "## Quick Start"
   ]
  },
  {
   "cell_type": "code",
   "execution_count": null,
   "metadata": {},
   "outputs": [],
   "source": [
    "import kts\n",
    "from kts import *"
   ]
  },
  {
   "cell_type": "markdown",
   "metadata": {},
   "source": [
    "Load data from user cache:"
   ]
  },
  {
   "cell_type": "code",
   "execution_count": null,
   "metadata": {},
   "outputs": [],
   "source": [
    "train = kts.load('train')\n",
    "test = kts.load('test')"
   ]
  },
  {
   "cell_type": "markdown",
   "metadata": {},
   "source": [
    "Create functions computing blocks of new features:"
   ]
  },
  {
   "cell_type": "code",
   "execution_count": null,
   "metadata": {},
   "outputs": [],
   "source": [
    "@register\n",
    "def feature_1(df):\n",
    "    ...\n",
    "    \n",
    "@register\n",
    "def feature_1(df):\n",
    "    ...\n",
    "    \n",
    "@register\n",
    "def feature_1(df):\n",
    "    ..."
   ]
  },
  {
   "cell_type": "markdown",
   "metadata": {},
   "source": [
    "Combine them using FeatureSet:"
   ]
  },
  {
   "cell_type": "code",
   "execution_count": null,
   "metadata": {},
   "outputs": [],
   "source": [
    "fs_1 = FeatureSet([feature_1, feature_2, feature_3],\n",
    "                  target_columns=...,\n",
    "                  df_input=train)"
   ]
  },
  {
   "cell_type": "markdown",
   "metadata": {},
   "source": [
    "Define a validation strategy:"
   ]
  },
  {
   "cell_type": "code",
   "execution_count": null,
   "metadata": {},
   "outputs": [],
   "source": [
    "from sklearn.metrics import roc_score\n",
    "from sklearn.model_selection import StratifiedKFold\n",
    "\n",
    "skf = StratifiedKFold(10, True, 42)\n",
    "val = Validator(skf, roc_score)"
   ]
  },
  {
   "cell_type": "markdown",
   "metadata": {},
   "source": [
    "Train trackable models (built in or custom) using your features and get their IDs at the local leaderboard:"
   ]
  },
  {
   "cell_type": "code",
   "execution_count": null,
   "metadata": {},
   "outputs": [],
   "source": [
    "from zoo.binary_classification import CatBoostClassifier, LGBMClassifier, LogisticRegression\n",
    "\n",
    "cb = CatBoostClassifier(iterations=50)\n",
    "lgb = LGBMClassifier()\n",
    "\n",
    "summary_cb = val.score(cb, fs_1, verbose=False)\n",
    "summary_lgb = val.score(cb, fs_1, verbose=False)"
   ]
  },
  {
   "cell_type": "markdown",
   "metadata": {},
   "source": [
    "Use `kts.stack` to get leak-free validator and a feature block with the predictions of first-level models, then add this block to your set of features and train a second-level model:"
   ]
  },
  {
   "cell_type": "code",
   "execution_count": null,
   "metadata": {},
   "outputs": [],
   "source": [
    "ids_to_stack = [summary_cb['id'], summary_lgb['id']]\n",
    "val_stack, fc_stack = kts.stack(ids_to_stack)\n",
    "\n",
    "fs_stack = FeatureSet([feature_1, feature_2, feature_3, fc_stack],\n",
    "                  target_columns=...,\n",
    "                  df_input=train)\n",
    "\n",
    "logreg = LogisticRegression()\n",
    "summary_logreg = val_stack.score(logreg, fs_stack)"
   ]
  },
  {
   "cell_type": "markdown",
   "metadata": {},
   "source": [
    "Access the experiment by its ID and get final predictions for test dataframe:"
   ]
  },
  {
   "cell_type": "code",
   "execution_count": null,
   "metadata": {},
   "outputs": [],
   "source": [
    "logreg_id  = summary_logreg['id']\n",
    "\n",
    "logreg_exp = lb[logreg_id] # == kts.leaderboard[logreg_id]\n",
    "\n",
    "test_predictions = logreg_exp.predict(test)"
   ]
  },
  {
   "cell_type": "markdown",
   "metadata": {},
   "source": [
    "Check out the [docs](https://kts.readthedocs.io) for a detailed description of the features of KTS and its best practices of usage.  \n"
   ]
  }
 ],
 "metadata": {
  "kernelspec": {
   "display_name": "Python 3",
   "language": "python",
   "name": "python3"
  },
  "language_info": {
   "codemirror_mode": {
    "name": "ipython",
    "version": 3
   },
   "file_extension": ".py",
   "mimetype": "text/x-python",
   "name": "python",
   "nbconvert_exporter": "python",
   "pygments_lexer": "ipython3",
   "version": "3.6.1"
  }
 },
 "nbformat": 4,
 "nbformat_minor": 2
}
